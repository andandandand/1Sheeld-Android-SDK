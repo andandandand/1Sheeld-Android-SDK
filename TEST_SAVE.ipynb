{
  "nbformat": 4,
  "nbformat_minor": 0,
  "metadata": {
    "colab": {
      "name": "TEST SAVE.ipynb",
      "provenance": [],
      "authorship_tag": "ABX9TyNwx/sG9v3/LP4b6UTOmhI7",
      "include_colab_link": true
    },
    "kernelspec": {
      "name": "python3",
      "display_name": "Python 3"
    }
  },
  "cells": [
    {
      "cell_type": "markdown",
      "metadata": {
        "id": "view-in-github",
        "colab_type": "text"
      },
      "source": [
        "<a href=\"https://colab.research.google.com/github/andandandand/1Sheeld-Android-SDK/blob/master/TEST_SAVE.ipynb\" target=\"_parent\"><img src=\"https://colab.research.google.com/assets/colab-badge.svg\" alt=\"Open In Colab\"/></a>"
      ]
    },
    {
      "cell_type": "markdown",
      "metadata": {
        "id": "6rK8ru22U8Ip",
        "colab_type": "text"
      },
      "source": [
        "# TEST"
      ]
    }
  ]
}